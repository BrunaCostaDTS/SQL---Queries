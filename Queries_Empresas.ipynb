{
  "nbformat": 4,
  "nbformat_minor": 0,
  "metadata": {
    "colab": {
      "provenance": [],
      "authorship_tag": "ABX9TyOF7xV4yoopvTyQf24nBHYv",
      "include_colab_link": true
    },
    "kernelspec": {
      "name": "python3",
      "display_name": "Python 3"
    },
    "language_info": {
      "name": "python"
    }
  },
  "cells": [
    {
      "cell_type": "markdown",
      "metadata": {
        "id": "view-in-github",
        "colab_type": "text"
      },
      "source": [
        "<a href=\"https://colab.research.google.com/github/BrunaCostaDTS/BrunaCostaDTS/blob/main/Hotmart_Queries.ipynb\" target=\"_parent\"><img src=\"https://colab.research.google.com/assets/colab-badge.svg\" alt=\"Open In Colab\"/></a>"
      ]
    },
    {
      "cell_type": "markdown",
      "source": [
        "**Library**"
      ],
      "metadata": {
        "id": "Kk8HvMlFpFfw"
      }
    },
    {
      "cell_type": "code",
      "source": [
        "!pip install pandas"
      ],
      "metadata": {
        "colab": {
          "base_uri": "https://localhost:8080/"
        },
        "collapsed": true,
        "id": "VpSN0oOymWGI",
        "outputId": "679cd394-6778-409c-d7bd-0d61811874f0"
      },
      "execution_count": null,
      "outputs": [
        {
          "output_type": "stream",
          "name": "stdout",
          "text": [
            "Requirement already satisfied: pandas in /usr/local/lib/python3.10/dist-packages (2.0.3)\n",
            "Requirement already satisfied: python-dateutil>=2.8.2 in /usr/local/lib/python3.10/dist-packages (from pandas) (2.8.2)\n",
            "Requirement already satisfied: pytz>=2020.1 in /usr/local/lib/python3.10/dist-packages (from pandas) (2023.4)\n",
            "Requirement already satisfied: tzdata>=2022.1 in /usr/local/lib/python3.10/dist-packages (from pandas) (2024.1)\n",
            "Requirement already satisfied: numpy>=1.21.0 in /usr/local/lib/python3.10/dist-packages (from pandas) (1.25.2)\n",
            "Requirement already satisfied: six>=1.5 in /usr/local/lib/python3.10/dist-packages (from python-dateutil>=2.8.2->pandas) (1.16.0)\n"
          ]
        }
      ]
    },
    {
      "cell_type": "code",
      "source": [
        "!pip install pandasql\n",
        "!pip install pandas"
      ],
      "metadata": {
        "colab": {
          "base_uri": "https://localhost:8080/"
        },
        "collapsed": true,
        "id": "kDKLUaAKmhyx",
        "outputId": "0239cfdc-f0e6-40f1-a0aa-224e64820100"
      },
      "execution_count": null,
      "outputs": [
        {
          "output_type": "stream",
          "name": "stdout",
          "text": [
            "Collecting pandasql\n",
            "  Downloading pandasql-0.7.3.tar.gz (26 kB)\n",
            "  Preparing metadata (setup.py) ... \u001b[?25l\u001b[?25hdone\n",
            "Requirement already satisfied: numpy in /usr/local/lib/python3.10/dist-packages (from pandasql) (1.25.2)\n",
            "Requirement already satisfied: pandas in /usr/local/lib/python3.10/dist-packages (from pandasql) (2.0.3)\n",
            "Requirement already satisfied: sqlalchemy in /usr/local/lib/python3.10/dist-packages (from pandasql) (2.0.30)\n",
            "Requirement already satisfied: python-dateutil>=2.8.2 in /usr/local/lib/python3.10/dist-packages (from pandas->pandasql) (2.8.2)\n",
            "Requirement already satisfied: pytz>=2020.1 in /usr/local/lib/python3.10/dist-packages (from pandas->pandasql) (2023.4)\n",
            "Requirement already satisfied: tzdata>=2022.1 in /usr/local/lib/python3.10/dist-packages (from pandas->pandasql) (2024.1)\n",
            "Requirement already satisfied: typing-extensions>=4.6.0 in /usr/local/lib/python3.10/dist-packages (from sqlalchemy->pandasql) (4.11.0)\n",
            "Requirement already satisfied: greenlet!=0.4.17 in /usr/local/lib/python3.10/dist-packages (from sqlalchemy->pandasql) (3.0.3)\n",
            "Requirement already satisfied: six>=1.5 in /usr/local/lib/python3.10/dist-packages (from python-dateutil>=2.8.2->pandas->pandasql) (1.16.0)\n",
            "Building wheels for collected packages: pandasql\n",
            "  Building wheel for pandasql (setup.py) ... \u001b[?25l\u001b[?25hdone\n",
            "  Created wheel for pandasql: filename=pandasql-0.7.3-py3-none-any.whl size=26771 sha256=93abf11666e97d18732618207a874151aea6ceb105013daa2408127e71b5ec5c\n",
            "  Stored in directory: /root/.cache/pip/wheels/e9/bc/3a/8434bdcccf5779e72894a9b24fecbdcaf97940607eaf4bcdf9\n",
            "Successfully built pandasql\n",
            "Installing collected packages: pandasql\n",
            "Successfully installed pandasql-0.7.3\n"
          ]
        }
      ]
    },
    {
      "cell_type": "markdown",
      "source": [
        "**Imports**"
      ],
      "metadata": {
        "id": "5Y89MDPipVL4"
      }
    },
    {
      "cell_type": "code",
      "execution_count": null,
      "metadata": {
        "id": "ZikeCgGRlv3y"
      },
      "outputs": [],
      "source": [
        "import pandas as pd\n",
        "import pandasql as psql"
      ]
    },
    {
      "cell_type": "markdown",
      "source": [
        "**Loads**"
      ],
      "metadata": {
        "id": "q1SEwOv1pXf_"
      }
    },
    {
      "cell_type": "code",
      "source": [
        "# Carregar CSV\n",
        "df_Producers = pd.read_csv('/content/Hotmart/Producers.csv')\n",
        "df_Products = pd.read_csv('/content/Hotmart/Products.csv')\n",
        "df_Sales = pd.read_csv('/content/Hotmart/Sales.csv')\n",
        "#df_Purchases = pd.read_csv('Purchases.csv')"
      ],
      "metadata": {
        "id": "G4IzsLmkl7Um"
      },
      "execution_count": 15,
      "outputs": []
    },
    {
      "cell_type": "markdown",
      "source": [
        "**Queries**"
      ],
      "metadata": {
        "id": "0BQqwisspsN_"
      }
    },
    {
      "cell_type": "markdown",
      "source": [
        "\n",
        "\n",
        "---\n",
        "\n"
      ],
      "metadata": {
        "id": "2RG29klweQNq"
      }
    },
    {
      "cell_type": "markdown",
      "source": [
        "1. **O produto top com mais compras válidas (sem reembolso, cancelamento ou estorno), em cada nicho com área\n",
        "de adesão desativada e recuperação ativada.**\n"
      ],
      "metadata": {
        "id": "kXB6qWAkalvw"
      }
    },
    {
      "cell_type": "markdown",
      "source": [
        "1. *PS: Entendo nessa questão que devo trazer o produto mais vendido de cada nicho (sem reembolso, cancelamento ou estorno), desde que a area de adesão (member_area_active) esteja desativada e a área de recuperação(recovery_active) esteja ativada.*"
      ],
      "metadata": {
        "id": "rlcpBeYBeD7s"
      }
    },
    {
      "cell_type": "code",
      "source": [
        "# Fazer uma consulta SQL\n",
        "query = \"\"\"\n",
        "with cte as(\n",
        "SELECT\n",
        "    a.product_id\n",
        "    ,b.niche\n",
        "    ,count(*) as TotalCompras\n",
        "FROM df_Sales a\n",
        "left JOIN df_Products b on b.product_id = a.product_id\n",
        "WHERE\n",
        "    a.refund = 0\n",
        "    and a.cancelled = 0\n",
        "    and a.chargeback = 0\n",
        "    and b.member_area_active = 0\n",
        "    and b.recovery_active = 1\n",
        "GROUP by  a.product_id, b.niche\n",
        ")\n",
        ",Rank as (\n",
        "SELECT\n",
        "    *,\n",
        "    ROW_NUMBER() OVER (PARTITION BY niche ORDER BY TotalCompras DESC) AS rank\n",
        "FROM cte\n",
        ")\n",
        "SELECT\n",
        "    a.niche\n",
        "    ,a.product_id\n",
        "    ,a.TotalCompras\n",
        "from Rank a\n",
        "where rank = 1\n",
        "\"\"\"\n",
        "result = psql.sqldf(query, globals())\n",
        "print(result)"
      ],
      "metadata": {
        "id": "oQhsxUtTeizb",
        "colab": {
          "base_uri": "https://localhost:8080/"
        },
        "outputId": "9f16f0db-c0e2-4527-9328-eeefe45dedcf"
      },
      "execution_count": 30,
      "outputs": [
        {
          "output_type": "stream",
          "name": "stdout",
          "text": [
            "                   niche  product_id  TotalCompras\n",
            "0       Empreendedorismo   983844542           333\n",
            "1               Financas   348532296            49\n",
            "2    Saúde e Alimentação   260868848           148\n",
            "3  Tecnologia e Inovação   719732475           169\n",
            "4                Viagens   324917616            92\n"
          ]
        }
      ]
    },
    {
      "cell_type": "markdown",
      "source": [
        "\n",
        "\n",
        "---\n",
        "\n"
      ],
      "metadata": {
        "id": "HVrnmDH2ehdp"
      }
    },
    {
      "cell_type": "markdown",
      "source": [
        "**2. Os 5 principais produtores que aderiram à Hotmart a partir de 2019 e obtiveram a maior comissão\n",
        "usando a recuperação.**"
      ],
      "metadata": {
        "id": "r516_ZpW6HkH"
      }
    },
    {
      "cell_type": "markdown",
      "source": [
        "*2. PS: Entendo que devo retornar o top 5 produtores que entraram como clientes da hotmart a partir de 2019 e obtiveram a maior comissão(comission_value) usando a recuperação (recovery_active).*"
      ],
      "metadata": {
        "id": "R76gA-mc6Kpo"
      }
    },
    {
      "cell_type": "code",
      "source": [
        "# Fazer uma consulta SQL\n",
        "# Esse exemplo usando a mesma query e raciocínio usados no dash e no data.world não reconheceu o produtor 13 como o primeiro da lista, logo, ele puxou o seguinte (10)\n",
        "query = \"\"\"\n",
        "SELECT\n",
        "    c.producer_id\n",
        "    ,SUM(a.comission_value)\n",
        "FROM df_Sales a\n",
        "LEFT JOIN df_Products b on a.product_id = b.product_id\n",
        "LEFT JOIN df_Producers c on b.producer_id = c.producer_id\n",
        "WHERE\n",
        "    b.recovery_active = 1\n",
        "    and c.registry_date >= '2019-01-01'\n",
        "GROUP BY c.producer_id\n",
        "ORDER BY SUM(a.comission_value) desc\n",
        "LIMIT 5\n",
        "\"\"\"\n",
        "result = psql.sqldf(query, globals())\n",
        "print(result)"
      ],
      "metadata": {
        "colab": {
          "base_uri": "https://localhost:8080/"
        },
        "id": "Wbwbfprp98iI",
        "outputId": "181db62e-5a30-48c9-f5ee-36d90c2df973"
      },
      "execution_count": 31,
      "outputs": [
        {
          "output_type": "stream",
          "name": "stdout",
          "text": [
            "   producer_id  SUM(a.comission_value)\n",
            "0            3                293341.1\n",
            "1            6                250124.6\n",
            "2            7                128060.4\n",
            "3            5                 45328.3\n",
            "4           10                 35700.0\n"
          ]
        }
      ]
    },
    {
      "cell_type": "markdown",
      "source": [
        "\n",
        "\n",
        "---\n",
        "\n"
      ],
      "metadata": {
        "id": "a7XYRJNa_VVE"
      }
    },
    {
      "cell_type": "markdown",
      "source": [
        "**3. Liste o número de vendas realizadas em cada dia da semana dos anos de 2020, 2021 e\n",
        "2022 e a variação entre as vendas dos dias da semana de 2021/2020 e 2022/2021.**"
      ],
      "metadata": {
        "id": "kZqZozTz_j9K"
      }
    },
    {
      "cell_type": "markdown",
      "source": [
        "*3. Entendi que preciso retornar o numero de vendas realizadasem cada semana de 2020 a 2022, junto com a variação entre as vendas dos dias da semana de 2021/2020 e 2022/2021.*"
      ],
      "metadata": {
        "id": "yxGWmDvk_m_8"
      }
    },
    {
      "cell_type": "code",
      "source": [
        "df_Producers = pd.read_csv('/content/Hotmart/Producers.csv')\n",
        "df_Products = pd.read_csv('/content/Hotmart/Products.csv')\n",
        "df_Sales = pd.read_csv('/content/Hotmart/Sales.csv')"
      ],
      "metadata": {
        "id": "uC0N-uX97J5t"
      },
      "execution_count": null,
      "outputs": []
    },
    {
      "cell_type": "markdown",
      "source": [],
      "metadata": {
        "id": "Qy50B5SMo_y7"
      }
    },
    {
      "cell_type": "markdown",
      "source": [],
      "metadata": {
        "id": "MGH7p2ibpBH6"
      }
    }
  ]
}